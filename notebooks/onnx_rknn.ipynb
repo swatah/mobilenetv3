{
 "cells": [
  {
   "cell_type": "code",
   "execution_count": 1,
   "id": "53e2e11f",
   "metadata": {},
   "outputs": [
    {
     "data": {
      "text/plain": [
       "'\\nCopyright (c) 2025 NeuralSense AI Private Limited\\nTrading as swatah.ai. All rights reserved.\\nThis file is part of the swatah.ai software stack and is licensed under\\nthe terms defined in the accompanying LICENSE file. Unauthorized copying,\\ndistribution, or modification of this file, via any medium, is strictly prohibited.\\nFor more information, visit: https://swatah.ai\\n'"
      ]
     },
     "execution_count": 1,
     "metadata": {},
     "output_type": "execute_result"
    }
   ],
   "source": [
    "\"\"\"\n",
    "Copyright (c) 2025 NeuralSense AI Private Limited\n",
    "Trading as swatah.ai. All rights reserved.\n",
    "This file is part of the swatah.ai software stack and is licensed under\n",
    "the terms defined in the accompanying LICENSE file. Unauthorized copying,\n",
    "distribution, or modification of this file, via any medium, is strictly prohibited.\n",
    "For more information, visit: https://swatah.ai\n",
    "\"\"\""
   ]
  },
  {
   "cell_type": "code",
   "execution_count": 2,
   "id": "9fb97273",
   "metadata": {},
   "outputs": [],
   "source": [
    "# pip install rknn-toolkit2"
   ]
  },
  {
   "cell_type": "code",
   "execution_count": 3,
   "id": "1b53881a",
   "metadata": {},
   "outputs": [
    {
     "name": "stdout",
     "output_type": "stream",
     "text": [
      "/home/radxa/dev/mobilenetv3\n"
     ]
    }
   ],
   "source": [
    "%cd .."
   ]
  },
  {
   "cell_type": "code",
   "execution_count": 4,
   "id": "a8d036f7",
   "metadata": {},
   "outputs": [
    {
     "name": "stderr",
     "output_type": "stream",
     "text": [
      "I rknn-toolkit2 version: 2.3.2\n",
      "\u001b[1;33mW\u001b[0m \u001b[1;31mconfig: Generally, when the model input is an image, the range of mean_values/std_values should be in [0, 255], but the value you filled is less than 1,\n",
      "          please check carefully! (If it is a Pytorch / Caffe model, you can try multiplying this value by 255)\u001b[0m\n",
      "\u001b[1;33mW\u001b[0m \u001b[1;33mload_onnx: If you don't need to crop the model, don't set 'inputs'/'input_size_list'/'outputs'!\u001b[0m\n",
      "I Loading : 100%|██████████████████████████████████████████████| 128/128 [00:00<00:00, 35483.87it/s]\n",
      "\u001b[1;33mW\u001b[0m \u001b[1;33mbuild: The dataset='dataset.txt' is ignored because do_quantization = False!\u001b[0m\n",
      "I OpFusing 1 :  64%|█████████████████████████████▍                | 64/100 [00:00<00:00, 162.01it/s]"
     ]
    },
    {
     "name": "stdout",
     "output_type": "stream",
     "text": [
      "\n"
     ]
    },
    {
     "name": "stderr",
     "output_type": "stream",
     "text": [
      "I OpFusing 0 :  99%|██████████████████████████████████████████████▌| 99/100 [00:02<00:00, 42.77it/s]"
     ]
    },
    {
     "name": "stdout",
     "output_type": "stream",
     "text": [
      "\n"
     ]
    },
    {
     "name": "stderr",
     "output_type": "stream",
     "text": [
      "I OpFusing 0 :   0%|                                                        | 0/100 [00:03<?, ?it/s]"
     ]
    },
    {
     "name": "stdout",
     "output_type": "stream",
     "text": [
      "\n",
      "\n",
      "\n"
     ]
    },
    {
     "name": "stderr",
     "output_type": "stream",
     "text": [
      "I OpFusing 2 : 100%|██████████████████████████████████████████████| 100/100 [00:03<00:00, 30.91it/s]"
     ]
    },
    {
     "name": "stdout",
     "output_type": "stream",
     "text": [
      "\n",
      "\n"
     ]
    },
    {
     "name": "stderr",
     "output_type": "stream",
     "text": [
      "I OpFusing 2 : 100%|██████████████████████████████████████████████| 100/100 [00:04<00:00, 24.57it/s]\n",
      "I rknn building ...\n",
      "I rknn building done.\n"
     ]
    }
   ],
   "source": [
    "from rknn.api import RKNN\n",
    "\n",
    "rknn = RKNN()\n",
    "\n",
    "rknn.config(\n",
    "    mean_values=[[0.485, 0.456, 0.406]],\n",
    "    std_values=[[0.229, 0.224, 0.225]],\n",
    "    target_platform='rk3588',\n",
    ")\n",
    "\n",
    "rknn.load_onnx(model='models/mobilenetv3_large.onnx', inputs=['input'],  input_size_list=[[1, 3, 224, 224]])\n",
    "\n",
    "rknn.build(do_quantization=False, dataset='dataset.txt')\n",
    "\n",
    "rknn.export_rknn('models/mobilenetv3_large.rknn')\n",
    "\n",
    "rknn.release()"
   ]
  },
  {
   "cell_type": "code",
   "execution_count": null,
   "id": "2345e053",
   "metadata": {},
   "outputs": [],
   "source": []
  }
 ],
 "metadata": {
  "kernelspec": {
   "display_name": "venv",
   "language": "python",
   "name": "python3"
  },
  "language_info": {
   "codemirror_mode": {
    "name": "ipython",
    "version": 3
   },
   "file_extension": ".py",
   "mimetype": "text/x-python",
   "name": "python",
   "nbconvert_exporter": "python",
   "pygments_lexer": "ipython3",
   "version": "3.11.2"
  }
 },
 "nbformat": 4,
 "nbformat_minor": 5
}
